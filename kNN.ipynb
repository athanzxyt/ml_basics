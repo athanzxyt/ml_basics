{
 "cells": [
  {
   "cell_type": "markdown",
   "id": "08d24de7",
   "metadata": {},
   "source": [
    "# k-Nearest Neighbors (kNN)\n",
    "\n",
    "The k-Nearest Neighbors classifier is a **supervised** machine learning model.\n",
    "\n",
    "Author: Athan Zhang"
   ]
  },
  {
   "cell_type": "code",
   "execution_count": 1,
   "id": "78792933",
   "metadata": {},
   "outputs": [],
   "source": [
    "# Import important libraries\n",
    "import numpy as np\n",
    "import pandas as pd\n",
    "import matplotlib.pyplot as plt\n",
    "from sklearn.model_selection import train_test_split\n",
    "from sklearn.metrics import confusion_matrix, ConfusionMatrixDisplay\n",
    "\n",
    "%matplotlib inline"
   ]
  },
  {
   "cell_type": "markdown",
   "id": "efbd1130",
   "metadata": {},
   "source": [
    "$$\n",
    "D(p,q) = \\sqrt{\\sum_{i=1}^{n} \\left(q_{i} - p_{i}\\right)^{2}}\n",
    "$$"
   ]
  },
  {
   "cell_type": "markdown",
   "id": "10ae7335",
   "metadata": {},
   "source": [
    "## kNN Class"
   ]
  },
  {
   "cell_type": "code",
   "execution_count": 2,
   "id": "f3d3d853",
   "metadata": {},
   "outputs": [],
   "source": [
    "class kNN():\n",
    "    \n",
    "    def __init__(self):\n",
    "        pass\n",
    "    \n",
    "    def fit(self, X, y):\n",
    "        \"\"\"\n",
    "        Stores the initial training data and labels.\n",
    "        \"\"\"\n",
    "        self.data = X\n",
    "        self.labels = y\n",
    "        \n",
    "    def distance(self, X):  \n",
    "        \"\"\"\n",
    "        Calculates the Euclidean distance between the\n",
    "        stored training data and input data.\n",
    "        \"\"\"\n",
    "        n_samples, n_attributes = X.shape\n",
    "        dists = [np.sqrt(np.sum(((self.data - X[i])**2).astype(float), axis=1)) for i in range(n_samples)]\n",
    "        \n",
    "        return np.array(dists)\n",
    "    \n",
    "    def predict(self, X, k=5):\n",
    "        \"\"\"\n",
    "        Predicts the classification labels for input data.\n",
    "        \"\"\"\n",
    "        dists = self.distance(X)\n",
    "        \n",
    "        neighbors = np.argsort(dists)[:, :k]\n",
    "        neighbor_labels = self.labels[neighbors]\n",
    "        preds = np.max(neighbor_labels, axis=1)\n",
    "\n",
    "        return preds"
   ]
  },
  {
   "cell_type": "markdown",
   "id": "7df464bf",
   "metadata": {},
   "source": [
    "## Initializing and Training the Model"
   ]
  },
  {
   "cell_type": "code",
   "execution_count": 3,
   "id": "0bf94405",
   "metadata": {},
   "outputs": [],
   "source": [
    "# Load and split data\n",
    "data = pd.read_csv(\"iris.csv\").to_numpy()\n",
    "X = data[:,:-1]\n",
    "Y = data[:,-1]\n",
    "\n",
    "X_train, X_test, Y_train, Y_test = train_test_split(X, Y, train_size=0.8, random_state=1000)\n",
    "\n",
    "# Instantiate Classifier\n",
    "clf = kNN()\n",
    "clf.fit(X_train,Y_train)"
   ]
  },
  {
   "cell_type": "markdown",
   "id": "453006d6",
   "metadata": {},
   "source": [
    "## Testing the Model"
   ]
  },
  {
   "cell_type": "code",
   "execution_count": 4,
   "id": "f83c136d",
   "metadata": {},
   "outputs": [
    {
     "name": "stdout",
     "output_type": "stream",
     "text": [
      "Testing Accuracy: 0.9333333333333333\n"
     ]
    }
   ],
   "source": [
    "preds = clf.predict(X_test)\n",
    "\n",
    "# Calculate Accuracy\n",
    "acc = np.sum(preds==Y_test) / len(Y_test)\n",
    "print(f\"Testing Accuracy: {acc}\")"
   ]
  },
  {
   "cell_type": "code",
   "execution_count": 5,
   "id": "8ae1081c",
   "metadata": {},
   "outputs": [
    {
     "data": {
      "text/plain": [
       "<sklearn.metrics._plot.confusion_matrix.ConfusionMatrixDisplay at 0x7faa79511af0>"
      ]
     },
     "execution_count": 5,
     "metadata": {},
     "output_type": "execute_result"
    },
    {
     "data": {
      "image/png": "[encoded data removed]",
      "text/plain": [
       "<Figure size 432x288 with 2 Axes>"
      ]
     },
     "metadata": {
      "needs_background": "light"
     },
     "output_type": "display_data"
    }
   ],
   "source": [
    "# Show Confusion Matrix\n",
    "cm = confusion_matrix(Y_test, preds)\n",
    "disp = ConfusionMatrixDisplay(confusion_matrix=cm,\n",
    "                              display_labels=np.unique(Y))\n",
    "disp.plot()"
   ]
  },
  {
   "cell_type": "markdown",
   "id": "121815f2",
   "metadata": {},
   "source": [
    "## Finding Ideal k"
   ]
  },
  {
   "cell_type": "code",
   "execution_count": 6,
   "id": "c3e18957",
   "metadata": {},
   "outputs": [
    {
     "data": {
      "text/plain": [
       "Text(0, 0.5, 'Accuracy')"
      ]
     },
     "execution_count": 6,
     "metadata": {},
     "output_type": "execute_result"
    },
    {
     "data": {
      "image/png": "[encoded data removed]",
      "text/plain": [
       "<Figure size 432x288 with 1 Axes>"
      ]
     },
     "metadata": {
      "needs_background": "light"
     },
     "output_type": "display_data"
    }
   ],
   "source": [
    "# Plot how accuracy changes with k\n",
    "ks = [*range(1,15)]\n",
    "accs = []\n",
    "for k in ks:\n",
    "    preds = clf.predict(X_test, k=k)\n",
    "    acc = np.sum(preds==Y_test) / len(Y_test)\n",
    "    accs.append(acc)\n",
    "\n",
    "plt.plot(ks, accs) \n",
    "plt.xlabel('k')\n",
    "plt.ylabel('Accuracy')\n",
    "    \n"
   ]
  },
  {
   "cell_type": "code",
   "execution_count": null,
   "id": "cf7c72ab",
   "metadata": {},
   "outputs": [],
   "source": []
  }
 ],
 "metadata": {
  "kernelspec": {
   "display_name": "Python 3 (ipykernel)",
   "language": "python",
   "name": "python3"
  },
  "language_info": {
   "codemirror_mode": {
    "name": "ipython",
    "version": 3
   },
   "file_extension": ".py",
   "mimetype": "text/x-python",
   "name": "python",
   "nbconvert_exporter": "python",
   "pygments_lexer": "ipython3",
   "version": "3.9.7"
  }
 },
 "nbformat": 4,
 "nbformat_minor": 5
}
