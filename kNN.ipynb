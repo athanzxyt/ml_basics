{
 "cells": [
  {
   "cell_type": "markdown",
   "id": "08d24de7",
   "metadata": {},
   "source": [
    "# k-Nearest Neighbors (kNN)\n",
    "\n",
    "Author: Athan Zhang\n",
    "\n",
    "*In this notebook:*\n",
    "- kNN Class\n",
    "- Initiatlizing and Training the Model\n",
    "- Testing the Model\n",
    "- Finding Ideak k\n",
    "- Dataset Handling\n",
    "- Sklean Implementation\n",
    "\n",
    "The k-Nearest Neighbors classifier is a **supervised** machine learning model. It works for both data classificiation and regression. It estimates the the class of a datapoint based on it's proximity, or closeness, to nearby datapoints. The most common way to calculate the distance between data points is with the Euclidean distance, given as follows:\n",
    "\n",
    "$$\n",
    "D(p,q) = \\sqrt{\\sum_{i=1}^{n} \\left(q_{i} - p_{i}\\right)^{2}}\n",
    "$$\n",
    "\n",
    "However there are other distance metrics, such as the Manhattan Distance, Minkowski Distance, and Hamming Distance. \n",
    "\n",
    "During training time, it doesn't make any calculations, rather, it just stores information. When testing, a data point is compared to its k nearest neighbors stored from training, where k is any arbitrary number set. For classification, the mode label of these neighbors is returned. For regression, the mean is returned. \n",
    "\n",
    "Let's dive into the algorithm."
   ]
  },
  {
   "cell_type": "code",
   "execution_count": 1,
   "id": "78792933",
   "metadata": {},
   "outputs": [],
   "source": [
    "# Import important libraries\n",
    "import numpy as np\n",
    "import pandas as pd\n",
    "import matplotlib.pyplot as plt\n",
    "from sklearn.model_selection import train_test_split\n",
    "from sklearn.datasets import make_blobs\n",
    "from sklearn.datasets import load_iris\n",
    "from sklearn.metrics import confusion_matrix, ConfusionMatrixDisplay\n",
    "\n",
    "%matplotlib inline"
   ]
  },
  {
   "cell_type": "markdown",
   "id": "10ae7335",
   "metadata": {},
   "source": [
    "## kNN Class\n",
    "\n",
    "Below is the annotated code for the kNN class."
   ]
  },
  {
   "cell_type": "code",
   "execution_count": 2,
   "id": "f3d3d853",
   "metadata": {},
   "outputs": [],
   "source": [
    "class kNN():\n",
    "    \n",
    "    def __init__(self):\n",
    "        pass\n",
    "    \n",
    "    def fit(self, X, y):\n",
    "        \"\"\"\n",
    "        Stores the initial training data and labels.\n",
    "        \"\"\"\n",
    "        self.data = X\n",
    "        self.labels = y\n",
    "        \n",
    "    def distance(self, X):  \n",
    "        \"\"\"\n",
    "        Calculates the Euclidean distance between the\n",
    "        stored training data and input data.\n",
    "        \"\"\"\n",
    "        n_samples, n_attributes = X.shape\n",
    "        dists = [np.sqrt(np.sum(((self.data - X[i])**2).astype(float), axis=1)) for i in range(n_samples)]\n",
    "        \n",
    "        return np.array(dists)\n",
    "    \n",
    "    def predict(self, X, k=5):\n",
    "        \"\"\"\n",
    "        Predicts the classification labels for input data.\n",
    "        \"\"\"\n",
    "        dists = self.distance(X)\n",
    "        \n",
    "        neighbors = np.argsort(dists)[:, :k]\n",
    "        neighbor_labels = self.labels[neighbors]\n",
    "        preds = np.max(neighbor_labels, axis=1)\n",
    "\n",
    "        return preds"
   ]
  },
  {
   "cell_type": "markdown",
   "id": "7df464bf",
   "metadata": {},
   "source": [
    "## Initializing and Training the Model"
   ]
  },
  {
   "cell_type": "code",
   "execution_count": 3,
   "id": "0bf94405",
   "metadata": {},
   "outputs": [],
   "source": [
    "# Load and split data\n",
    "data = load_iris()\n",
    "X = data.data\n",
    "Y = data.target\n",
    "\n",
    "X_train, X_test, Y_train, Y_test = train_test_split(X, Y, train_size=0.8, random_state=1000)\n",
    "\n",
    "# Instantiate Classifier\n",
    "clf = kNN()\n",
    "clf.fit(X_train,Y_train)"
   ]
  },
  {
   "cell_type": "markdown",
   "id": "453006d6",
   "metadata": {},
   "source": [
    "## Testing the Model"
   ]
  },
  {
   "cell_type": "code",
   "execution_count": 4,
   "id": "f83c136d",
   "metadata": {},
   "outputs": [
    {
     "name": "stdout",
     "output_type": "stream",
     "text": [
      "Testing Accuracy: 0.933\n",
      "Macro-Precision:  0.939\n",
      "Macro-Recall:\t  0.944\n",
      "Micro-Precision:  0.933\n",
      "Micro-Recall:\t  0.933\n"
     ]
    }
   ],
   "source": [
    "preds = clf.predict(X_test)\n",
    "\n",
    "# Calculate Accuracy\n",
    "acc = np.sum(preds==Y_test) / len(Y_test)\n",
    "print(f\"Testing Accuracy:{acc: .3f}\")\n",
    "\n",
    "# Calculate Macro & Micro average Precision & Recall\n",
    "tps, fps, fns = [], [], []\n",
    "for label in np.unique(Y):\n",
    "    tps.append(np.sum( (Y_test==label) & (preds==label) ))\n",
    "    fps.append(np.sum( (Y_test!=label) & (preds==label) ))\n",
    "    fns.append(np.sum( (Y_test==label) & (preds!=label) ))\n",
    "\n",
    "macro_precision  = np.mean(tps / np.add(tps,fps))\n",
    "macro_recall     = np.mean(tps / np.add(tps,fns))\n",
    "micro_precision  = np.sum(tps) / (np.sum(tps) + np.sum(fps))\n",
    "micro_recall     = np.sum(tps) / (np.sum(tps) + np.sum(fns))\n",
    "\n",
    "print(f\"Macro-Precision: {macro_precision: .3f}\")\n",
    "print(f\"Macro-Recall:\\t {macro_recall: .3f}\")\n",
    "print(f\"Micro-Precision: {micro_precision: .3f}\")\n",
    "print(f\"Micro-Recall:\\t {micro_recall: .3f}\")"
   ]
  },
  {
   "cell_type": "code",
   "execution_count": 5,
   "id": "8ae1081c",
   "metadata": {},
   "outputs": [
    {
     "data": {
      "text/plain": [
       "<sklearn.metrics._plot.confusion_matrix.ConfusionMatrixDisplay at 0x2467f65cd90>"
      ]
     },
     "execution_count": 5,
     "metadata": {},
     "output_type": "execute_result"
    },
    {
     "data": {
      "image/png": "[encoded data removed]",
      "text/plain": [
       "<Figure size 432x288 with 2 Axes>"
      ]
     },
     "metadata": {
      "needs_background": "light"
     },
     "output_type": "display_data"
    }
   ],
   "source": [
    "# Show Confusion Matrix\n",
    "cm = confusion_matrix(Y_test, preds)\n",
    "disp = ConfusionMatrixDisplay(confusion_matrix=cm,\n",
    "                              display_labels=np.unique(Y))\n",
    "disp.plot()"
   ]
  },
  {
   "cell_type": "markdown",
   "id": "121815f2",
   "metadata": {},
   "source": [
    "## Finding Ideal k"
   ]
  },
  {
   "cell_type": "code",
   "execution_count": 6,
   "id": "c3e18957",
   "metadata": {},
   "outputs": [
    {
     "data": {
      "text/plain": [
       "[<matplotlib.lines.Line2D at 0x2467f857670>]"
      ]
     },
     "execution_count": 6,
     "metadata": {},
     "output_type": "execute_result"
    },
    {
     "data": {
      "image/png": "[encoded data removed]",
      "text/plain": [
       "<Figure size 432x288 with 1 Axes>"
      ]
     },
     "metadata": {
      "needs_background": "light"
     },
     "output_type": "display_data"
    }
   ],
   "source": [
    "# Plot how accuracy changes with k\n",
    "ks = [*range(1,25)]\n",
    "accs = []\n",
    "for k in ks:\n",
    "    preds = clf.predict(X_test, k=k)\n",
    "    acc = np.sum(preds==Y_test) / len(Y_test)\n",
    "    accs.append(acc)\n",
    "\n",
    "plt.xlabel('k')\n",
    "plt.ylabel('Accuracy')\n",
    "plt.plot(ks, accs) \n"
   ]
  },
  {
   "cell_type": "markdown",
   "id": "db6ffda6",
   "metadata": {},
   "source": [
    "This shows that the ideal k does not follow a linear relationship. Starting from k=0, accuracy increases as k increases. This is due to improved accuracy with majority voting. However, past a critical point (in this case k=3), the accuracy begins to decrease."
   ]
  },
  {
   "cell_type": "markdown",
   "id": "e0ef643e",
   "metadata": {},
   "source": [
    "## Dataset Handling\n",
    "Let's test the kNN algorithm against an artificially made dataset that could have outliers or be skewed. \n"
   ]
  },
  {
   "cell_type": "code",
   "execution_count": 26,
   "id": "cfd49a77",
   "metadata": {},
   "outputs": [
    {
     "data": {
      "image/png": "[encoded data removed]",
      "text/plain": [
       "<Figure size 432x288 with 1 Axes>"
      ]
     },
     "metadata": {
      "needs_background": "light"
     },
     "output_type": "display_data"
    }
   ],
   "source": [
    "# Make artificial dataset\n",
    "X, Y = make_blobs(n_samples=[25,50,500], n_features=3, random_state=1000)\n",
    "X_train, X_test, Y_train, Y_test = train_test_split(X, Y, train_size=0.8, random_state=1000)\n",
    "\n",
    "for label in np.unique(Y):\n",
    "    plt.scatter(X[Y==label,0],X[Y==label,1])"
   ]
  },
  {
   "cell_type": "code",
   "execution_count": 16,
   "id": "a973607b",
   "metadata": {},
   "outputs": [
    {
     "name": "stdout",
     "output_type": "stream",
     "text": [
      "Testing Accuracy: 1.000\n"
     ]
    }
   ],
   "source": [
    "clf = kNN()\n",
    "clf.fit(X_train,Y_train)\n",
    "preds = clf.predict(X_test)\n",
    "acc = np.sum(preds==Y_test) / len(Y_test)\n",
    "print(f\"Testing Accuracy:{acc: .3f}\")"
   ]
  },
  {
   "cell_type": "markdown",
   "id": "f1175967",
   "metadata": {},
   "source": [
    "Unsurprisingly, the more skewed a dataset becomes, the better kNN performs. This is because the neighbors are more closely related to each other due to the skewedness."
   ]
  },
  {
   "cell_type": "code",
   "execution_count": 27,
   "id": "1b208130",
   "metadata": {},
   "outputs": [
    {
     "data": {
      "image/png": "[encoded data removed]",
      "text/plain": [
       "<Figure size 432x288 with 1 Axes>"
      ]
     },
     "metadata": {
      "needs_background": "light"
     },
     "output_type": "display_data"
    }
   ],
   "source": [
    "# Add outliers\n",
    "X, Y = make_blobs(n_samples=[25,25,25], n_features=3, random_state=1000)\n",
    "X = np.append(X, [[-30,30,30],[50,50,0],[70,0,0]], axis=0)\n",
    "Y = np.append(Y, [0,0,1], axis=0)\n",
    "X_train, X_test, Y_train, Y_test = train_test_split(X, Y, train_size=0.8, random_state=1000)\n",
    "\n",
    "for label in np.unique(Y):\n",
    "    plt.scatter(X[Y==label,0],X[Y==label,1])"
   ]
  },
  {
   "cell_type": "code",
   "execution_count": null,
   "id": "69718cb6",
   "metadata": {},
   "outputs": [],
   "source": []
  }
 ],
 "metadata": {
  "kernelspec": {
   "display_name": "Python 3 (ipykernel)",
   "language": "python",
   "name": "python3"
  },
  "language_info": {
   "codemirror_mode": {
    "name": "ipython",
    "version": 3
   },
   "file_extension": ".py",
   "mimetype": "text/x-python",
   "name": "python",
   "nbconvert_exporter": "python",
   "pygments_lexer": "ipython3",
   "version": "3.9.6"
  }
 },
 "nbformat": 4,
 "nbformat_minor": 5
}
