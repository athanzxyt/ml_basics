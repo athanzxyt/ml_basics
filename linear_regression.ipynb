{
 "cells": [
  {
   "cell_type": "markdown",
   "id": "04f67cdb",
   "metadata": {},
   "source": [
    "# Linear Regression\n",
    "\n",
    "Author: Athan Zhang (athanzxyt)\n",
    "\n",
    "*In this notebook:*\n",
    "- blah blah\n",
    "- blah blah\n",
    "\n",
    "Linear Regression is a supervised learning algorithm used to predict a continuous outcome variable (the dependent variable) based on one or more predictor variables (independent variables). It is commonly used in statistics and machine learning. It works by finding the best-fitting straight line through the data points. This line is then used to make predictions about new data.\n",
    "\n",
    "The equation for the best-fitting line is represented as:\n",
    "\n",
    "$$\n",
    "y_{\\text{predicted}} = \\beta_{0} + \\beta_{1}x_{1} + \\beta_{2}x_{2} + ... + \\beta_{n}x_{n}\n",
    "$$\n",
    "\n",
    "Where $y$ is the outcome variable and $x_{1},x_{2},...,x_{n}$ are the predictors/features. The coefficients for the predictor variables are chosen such taht the line fits the data points as well as possible. This is done by minimizing the residuals, which is differences between the predicted values and actual values. We will use least-squared error for this.\n",
    "\n",
    "$$\n",
    "\\text{LSE} = \\frac{1}{n}\\sum_{i=1}^{n}\\left(y_{\\text{actual}} - y_{\\text{predicted}}\\right)^{2}\n",
    "$$\n",
    "\n",
    "#### Important Assumptions of Linear Regression\n",
    "\n",
    "1. Normality\n",
    "\n",
    "It is required all the variables to be multivariate normal, with its residuals normally distributed. This type of assumption can be best chekced with the help of a histogram or a Q-Q Plot.\n",
    "\n",
    "2. Independence\n",
    "\n",
    "It is required that there is little to no autocorrelation in the data. This is when the predictor variables are not independent of each other. We can check of this with a scatter plot and we can also test a model for autocorrelation with the Durbin-Watson test.\n",
    "\n",
    "3. Homoscedasticity\n",
    "\n",
    "It is required that the residuals have constant variance"
   ]
  },
  {
   "cell_type": "code",
   "execution_count": null,
   "id": "b7536986",
   "metadata": {},
   "outputs": [],
   "source": []
  }
 ],
 "metadata": {
  "kernelspec": {
   "display_name": "Python 3 (ipykernel)",
   "language": "python",
   "name": "python3"
  },
  "language_info": {
   "codemirror_mode": {
    "name": "ipython",
    "version": 3
   },
   "file_extension": ".py",
   "mimetype": "text/x-python",
   "name": "python",
   "nbconvert_exporter": "python",
   "pygments_lexer": "ipython3",
   "version": "3.9.6"
  }
 },
 "nbformat": 4,
 "nbformat_minor": 5
}
